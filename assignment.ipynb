{
  "nbformat": 4,
  "nbformat_minor": 0,
  "metadata": {
    "colab": {
      "provenance": []
    },
    "kernelspec": {
      "name": "python3",
      "display_name": "Python 3"
    },
    "language_info": {
      "name": "python"
    }
  },
  "cells": [
    {
      "cell_type": "markdown",
      "source": [
        "## Question for python:\n",
        "\n",
        "-   Write a program to find prime number with in a range using function.\n",
        "-   Write a program to check palindrome.\n",
        "-   Write a program to generate the Fibonacci sequence of a given number.\n",
        "-   Create a number guessing game. Where you have to generate a random number in between 1 to 100 and user have to prompt a number for guess. if its high or low number let the user know and guide them through the process to guess correct number."
      ],
      "metadata": {
        "id": "b-b1Z5X6bU5Q"
      }
    },
    {
      "cell_type": "markdown",
      "source": [
        "## Requirements :\n",
        "\n",
        "-   strict evaluation and code review will be done.\n",
        "-   push your code in GitHub and submit your repo link\n",
        "-   code must be written in Jupiter Notebook and must include output"
      ],
      "metadata": {
        "id": "f5V3F4v_blSZ"
      }
    },
    {
      "cell_type": "markdown",
      "source": [
        "Q1. Write a program to find prime number with in a range using function."
      ],
      "metadata": {
        "id": "qMVwbhnnbrTD"
      }
    },
    {
      "cell_type": "code",
      "execution_count": 1,
      "metadata": {
        "colab": {
          "base_uri": "https://localhost:8080/"
        },
        "id": "aqlkoS-tbEmI",
        "outputId": "88221c3e-1fd2-478d-a446-c70db1adfa47"
      },
      "outputs": [
        {
          "output_type": "stream",
          "name": "stdout",
          "text": [
            "Enter a number: 11\n",
            "11 is a prime number\n",
            "Enter a number: 20\n",
            "20 is not a prime number\n"
          ]
        }
      ],
      "source": [
        "def prime(n):\n",
        "    if n > 1:\n",
        "        for i in range(2, n):\n",
        "            if n % i == 0:\n",
        "                print(n, \"is not a prime number\")\n",
        "                break\n",
        "        else:\n",
        "            print(n, \"is a prime number\")\n",
        "    else:\n",
        "        print(n, \"is not a prime number\")\n",
        "\n",
        "n = int(input(\"Enter a number: \"))\n",
        "prime(n)\n",
        "n = int(input(\"Enter a number: \"))\n",
        "prime(n)"
      ]
    },
    {
      "cell_type": "markdown",
      "source": [
        "Q2. Write a program to check palindrome number."
      ],
      "metadata": {
        "id": "vdIy__Nwb5Xk"
      }
    },
    {
      "cell_type": "code",
      "source": [
        "def palindrome(n):\n",
        "    temp = n\n",
        "    rev = 0\n",
        "    while n > 0:\n",
        "        dig = n % 10\n",
        "        rev = rev * 10 + dig\n",
        "        n = n // 10\n",
        "    if temp == rev:\n",
        "        print(f\"The number '{temp}' is palindrome!\")\n",
        "    else:\n",
        "        print(f\"The number '{temp}' is not palindrome!\")\n",
        "\n",
        "n = int(input(\"Enter a number: \"))\n",
        "palindrome(n)\n",
        "n = int(input(\"Enter a number: \"))\n",
        "palindrome(n)"
      ],
      "metadata": {
        "colab": {
          "base_uri": "https://localhost:8080/"
        },
        "id": "6_fxXZKgb_fy",
        "outputId": "f79f8011-9775-4e07-91b3-48e03b4dcb0b"
      },
      "execution_count": 2,
      "outputs": [
        {
          "output_type": "stream",
          "name": "stdout",
          "text": [
            "Enter a number: 123\n",
            "The number '123' is not palindrome!\n",
            "Enter a number: 121\n",
            "The number '121' is palindrome!\n"
          ]
        }
      ]
    },
    {
      "cell_type": "markdown",
      "source": [
        "Q3. Write a program to generate all the Fibonacci sequence of a given number using recursion."
      ],
      "metadata": {
        "id": "ihjpE5Nic5sw"
      }
    },
    {
      "cell_type": "code",
      "source": [
        "def fibonacci(n):\n",
        "    if n <= 1:\n",
        "        return n\n",
        "    else:\n",
        "        return fibonacci(n-1) + fibonacci(n-2)\n",
        "\n",
        "\n",
        "n = int(input(\"Enter a number: \"))\n",
        "print(f\"Fibonacci sequence for {n} numbers are:\")\n",
        "for i in range(n):\n",
        "    print(fibonacci(i))"
      ],
      "metadata": {
        "colab": {
          "base_uri": "https://localhost:8080/"
        },
        "id": "u2cANMyTdb9X",
        "outputId": "1e8df41b-8111-4ed9-e324-37eb9bfecf14"
      },
      "execution_count": 3,
      "outputs": [
        {
          "output_type": "stream",
          "name": "stdout",
          "text": [
            "Enter a number: 5\n",
            "Fibonacci sequence for 5 numbers are:\n",
            "0\n",
            "1\n",
            "1\n",
            "2\n",
            "3\n"
          ]
        }
      ]
    },
    {
      "cell_type": "markdown",
      "source": [
        "Q4. Create a number guessing game. Where you have to generate a random number in between 1 to 100 and user have to prompt a number for guess. if its high or low number let the user know and guide them through the process to guess correct number."
      ],
      "metadata": {
        "id": "ZCLsl5pPdkHo"
      }
    },
    {
      "cell_type": "code",
      "source": [
        "import random\n",
        "\n",
        "def guess(n):\n",
        "    number = random.randint(1, 100)\n",
        "    while n != number:\n",
        "        if n < number:\n",
        "            print(f\"Your guess {n} is too low\")\n",
        "            n = int(input(\"Enter a number: \"))\n",
        "        elif n > number:\n",
        "            print(f\"Your guess {n} is too high\")\n",
        "            n = int(input(\"Enter a number: \"))\n",
        "    print(\"Your guess is correct\")\n",
        "\n",
        "n = int(input(\"Enter a number: \"))\n",
        "guess(n)"
      ],
      "metadata": {
        "colab": {
          "base_uri": "https://localhost:8080/"
        },
        "id": "NO4gPX1ddnex",
        "outputId": "57b7dfbc-ca93-4878-c2a8-11ec4de84d7a"
      },
      "execution_count": 8,
      "outputs": [
        {
          "output_type": "stream",
          "name": "stdout",
          "text": [
            "Enter a number: 120\n",
            "Your guess 120 is too high\n",
            "Enter a number: 50\n",
            "Your guess 50 is too low\n",
            "Enter a number: 60\n",
            "Your guess 60 is too low\n",
            "Enter a number: 70\n",
            "Your guess 70 is too low\n",
            "Enter a number: 90\n",
            "Your guess 90 is too high\n",
            "Enter a number: 80\n",
            "Your guess 80 is too low\n",
            "Enter a number: 85\n",
            "Your guess 85 is too low\n",
            "Enter a number: 87\n",
            "Your guess 87 is too high\n",
            "Enter a number: 86\n",
            "Your guess is correct\n"
          ]
        }
      ]
    }
  ]
}